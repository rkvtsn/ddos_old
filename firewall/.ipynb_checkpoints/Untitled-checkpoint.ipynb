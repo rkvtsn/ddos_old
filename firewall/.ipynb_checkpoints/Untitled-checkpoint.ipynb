{
 "cells": [
  {
   "cell_type": "code",
   "execution_count": 9,
   "metadata": {
    "collapsed": false
   },
   "outputs": [
    {
     "name": "stdout",
     "output_type": "stream",
     "text": [
      "Done.\n"
     ]
    }
   ],
   "source": [
    "import sqlite3\n",
    "import sys, os, subprocess\n",
    "import config\n",
    "\n",
    "sql_query_create = '''CREATE TABLE rules (\n",
    "  id INTEGER PRIMARY KEY AUTOINCREMENT,\n",
    "  rule_str TEXT NOT NULL,\n",
    "  life_time TIMESTAMP NOT NULL\n",
    ");'''\n",
    "\n",
    "sql_query_delete = '''DROP TABLE IF EXISTS rules'''\n",
    "\n",
    "if __name__ == \"__main__\":\n",
    "\n",
    "    conn = sqlite3.connect(config.db_path)\n",
    "    c = conn.cursor()\n",
    "    c.execute(sql_query_create)\n",
    "\n",
    "    print \"Done.\""
   ]
  },
  {
   "cell_type": "code",
   "execution_count": 14,
   "metadata": {
    "collapsed": false
   },
   "outputs": [],
   "source": [
    "#!/usr/bin/python\n",
    "import sys\n",
    "import os\n",
    "import subprocess\n",
    "import sqlite3\n",
    "from math import ceil\n",
    "from datetime import datetime as dt\n",
    "from datetime import timedelta\n",
    "\n",
    "import config\n",
    "\n",
    "from tinterval import TimeInterval\n",
    "\n",
    "'''\n",
    "  TABLE FIELDS\n",
    "  @rule_str\n",
    "  @life_time\n",
    "'''\n",
    "\n",
    "\n",
    "class Firewall(object):\n",
    "\n",
    "    def __init__(self):\n",
    "\n",
    "        self._conn = sqlite3.connect(config.db_path)\n",
    "        self._c = self._conn.cursor()\n",
    "\n",
    "    \n",
    "    def close_connection(self):\n",
    "\n",
    "        self._conn.close()\n",
    "\n",
    "\n",
    "    def _add_rule(self, rule, life_time):\n",
    "        \n",
    "        t = dt.now()\n",
    "        params = (rule, life_time)\n",
    "        self._c.execute(\"INSERT INTO rules (rule_str, life_time) VALUES (?, ?)\", params)\n",
    "\n",
    "\n",
    "    def refresh(self):\n",
    "\n",
    "        #select dead rules\n",
    "        t = dt.now()\n",
    "        params = (t, )\n",
    "        r = self._c.execute('SELECT * FROM rules WHERE life_time < ?', params)\n",
    "\n",
    "        rules = r.fetchall()\n",
    "\n",
    "        for rule in rules:\n",
    "            #delete from 'iptables'\n",
    "            result = subprocess.call('iptables -D INPUT ' + rule[1], shell=True)\n",
    "            \n",
    "            # smth wrong!\n",
    "            if result != 0:\n",
    "                print \"Error with rule: \", rule\n",
    "                continue\n",
    "            #drop from 'DB'\n",
    "            id = (rule[0], )\n",
    "            self._c.execute('DELETE * FROM rules WHERE id = ?', id)\n",
    "        \n",
    "        #TODO:\n",
    "        min_life_time = config.timeout\n",
    "        \n",
    "        #TODO: If Count of rules is equal 0 rise Timeout by the TOP from SELECT:\n",
    "        if len(rules) == 0:\n",
    "            self._c.execute('SELECT life_time FROM rules LIMIT 1')\n",
    "        \n",
    "            \n",
    "                \n",
    "    '''\n",
    "    type: type of bad_ports, in ('list', 'range', None)\n",
    "        list -> block by each\n",
    "        range -> block inline\n",
    "        None -> block only IP\n",
    "    ip: source IP address\n",
    "    bad_ports: ports to be blocked\n",
    "    good_ports: ports to be allowed\n",
    "    '''\n",
    "    def block(self, ip, t, bad_ports, good_ports, timeout, is_inner):\n",
    "        \n",
    "        #prepare rule template\n",
    "        rule = \" -s \" + ip\n",
    "\n",
    "        #set -j param\n",
    "        j = \" -j REJECT\" if is_inner else \" -j DROP\"\n",
    "\n",
    "        #make `life_time` for rule\n",
    "        life_time = dt.now() + timedelta(minutes=timeout)\n",
    "\n",
    "        if t == \"list\":\n",
    "            # iptables has limit for ports (15 items) -> split it on chunks by 15\n",
    "            drop_rules = self._rules_batch_ports(rule, bad_ports)\n",
    "            for r in drop_rules:\n",
    "                rule_str = r + j\n",
    "                subprocess.call('iptables -A INPUT ' + rule_str, shell=True)\n",
    "                self._add_rule(rule_str, life_time)\n",
    "\n",
    "        elif t == \"range\":\n",
    "            rule_str = rule + ' --sport %d:%d' % (bad_ports[0], bad_ports[1]) + j\n",
    "            subprocess.call('iptables -A INPUT ' + rule_str, shell=True)\n",
    "            self._add_rule(rule_str, life_time)\n",
    "\n",
    "        else:\n",
    "            rule_str = rule + j\n",
    "            subprocess.call('iptables -A INPUT ' + rule_str, shell=True)\n",
    "            self._add_rule(rule_str, life_time)\n",
    "\n",
    "        # insert ALLOWED ports on IP\n",
    "        access_rules = self._rules_batch_ports(rule, good_ports)\n",
    "        for r in access_rules:\n",
    "            rule_str = r + \" -j ACCESS\"\n",
    "            subprocess.call('iptables -I INPUT 1 ' + rule_str, shell=True)\n",
    "            self._add_rule(rule_str, life_time)"
   ]
  },
  {
   "cell_type": "code",
   "execution_count": 1,
   "metadata": {
    "collapsed": true
   },
   "outputs": [],
   "source": [
    "def _rules_batch_ports(r, ports):\n",
    "        \n",
    "        rules = []\n",
    "        rule = r\n",
    "        print r\n",
    "        if ports is not None and len(ports) > 0:\n",
    "            rule += \" -p tcp -m multiport --sports \"\n",
    "            for i in xrange(int(ceil(len(ports)/float(15)))):\n",
    "                ports_str = ','.join(ports[i*15:(i+1)*15]) \n",
    "                rules.append(rule + ports_str)\n",
    "        \n",
    "        return rules"
   ]
  },
  {
   "cell_type": "code",
   "execution_count": 15,
   "metadata": {
    "collapsed": false
   },
   "outputs": [],
   "source": [
    "firewall = Firewall()"
   ]
  },
  {
   "cell_type": "code",
   "execution_count": 3,
   "metadata": {
    "collapsed": false
   },
   "outputs": [],
   "source": [
    "data = [\n",
    "        { 't': 'range', 'ip': '1.1.1.1', 'bad_ports': [1, 4],  'good_ports': [1,2,3], 'timeout': 60 * 1, 'is_inner': True },   # close ports range on IP address\n",
    "        { 't': 'list', 'ip': '1.2.1.1', 'bad_ports': [1, 3, 4], 'good_ports': [3,4,5], 'timeout': 60 * 3, 'is_inner': False }, # close ports list on IP address\n",
    "        { 't': None, 'ip': '1.3.1.1', 'bad_ports': [1, 3, 4], 'good_ports': [3,4,5], 'timeout': 60 * 5, 'is_inner': False },   # close IP address\n",
    "    ]"
   ]
  },
  {
   "cell_type": "code",
   "execution_count": 17,
   "metadata": {
    "collapsed": false
   },
   "outputs": [],
   "source": [
    "from math import ceil"
   ]
  },
  {
   "cell_type": "code",
   "execution_count": 26,
   "metadata": {
    "collapsed": false
   },
   "outputs": [],
   "source": [
    "ports = data[1]['bad_ports']\n",
    "rules = []\n",
    "rule = \"|\"\n",
    "for i in xrange(int(ceil(len(ports)/float(15)))):\n",
    "    ports_str = ','.join(str(x) for x in ports[i*15:(i+1)*15])\n",
    "    rules.append(rule + ports_str)"
   ]
  },
  {
   "cell_type": "code",
   "execution_count": 27,
   "metadata": {
    "collapsed": false
   },
   "outputs": [
    {
     "data": {
      "text/plain": [
       "['|1,3,4']"
      ]
     },
     "execution_count": 27,
     "metadata": {},
     "output_type": "execute_result"
    }
   ],
   "source": [
    "rules"
   ]
  },
  {
   "cell_type": "code",
   "execution_count": 29,
   "metadata": {
    "collapsed": true
   },
   "outputs": [],
   "source": [
    "import sqlite3, datetime\n",
    "import config"
   ]
  },
  {
   "cell_type": "code",
   "execution_count": 49,
   "metadata": {
    "collapsed": true
   },
   "outputs": [],
   "source": [
    "conn = sqlite3.connect(config.db_path)\n",
    "c = conn.cursor()\n",
    "t = datetime.datetime.now()\n",
    "rule = \"hello\"\n",
    "params = (rule, t)\n",
    "c.execute(\"INSERT INTO rules (rule_str, life_time) VALUES (?, ?)\", params)\n",
    "conn.commit()\n",
    "conn.close()"
   ]
  },
  {
   "cell_type": "code",
   "execution_count": 50,
   "metadata": {
    "collapsed": false
   },
   "outputs": [
    {
     "name": "stdout",
     "output_type": "stream",
     "text": [
      "[(1, u'hello', u'2016-06-06 17:27:55.765000'), (2, u'hello', u'2016-06-06 17:27:59.205000'), (3, u'hello', u'2016-06-06 17:28:07.892000'), (4, u'hello', u'2016-06-06 17:28:10.308000')]\n"
     ]
    }
   ],
   "source": [
    "conn = sqlite3.connect(config.db_path)\n",
    "c = conn.cursor()\n",
    "print c.execute('SELECT * FROM rules').fetchall()\n",
    "conn.close()"
   ]
  },
  {
   "cell_type": "code",
   "execution_count": 45,
   "metadata": {
    "collapsed": false
   },
   "outputs": [],
   "source": []
  },
  {
   "cell_type": "code",
   "execution_count": null,
   "metadata": {
    "collapsed": true
   },
   "outputs": [],
   "source": []
  }
 ],
 "metadata": {
  "kernelspec": {
   "display_name": "Python 2",
   "language": "python",
   "name": "python2"
  },
  "language_info": {
   "codemirror_mode": {
    "name": "ipython",
    "version": 2
   },
   "file_extension": ".py",
   "mimetype": "text/x-python",
   "name": "python",
   "nbconvert_exporter": "python",
   "pygments_lexer": "ipython2",
   "version": "2.7.11"
  }
 },
 "nbformat": 4,
 "nbformat_minor": 0
}
